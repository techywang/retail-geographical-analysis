{
 "cells": [
  {
   "cell_type": "code",
   "execution_count": 1,
   "metadata": {
    "collapsed": true,
    "deletable": true,
    "editable": true
   },
   "outputs": [],
   "source": [
    "import googlemaps\n",
    "from geopy import geocoders\n",
    "from geopy.exc import GeocoderTimedOut\n",
    "from csv import DictReader\n",
    "import numpy as np\n",
    "from scipy import stats\n",
    "import random\n",
    "\n",
    "addressData = \"data_files/DOLLAR_ADDRESSES.csv\"\n",
    "gmaps = googlemaps.Client(key = \"\")\n",
    "geolocator = geocoders.GoogleV3(api_key=\"\")"
   ]
  },
  {
   "cell_type": "code",
   "execution_count": 2,
   "metadata": {
    "collapsed": false,
    "deletable": true,
    "editable": true
   },
   "outputs": [],
   "source": [
    "with open(addressData) as f:\n",
    "    dg = [row[\"DG\"] for row in DictReader(f)]\n",
    "with open(addressData) as f:\n",
    "    dt = [row[\"DT\"] for row in DictReader(f)]    \n",
    "dt = [i for i in dt if i]\n",
    "\n",
    "np.save('data_files/dg.npy', dg)\n",
    "np.save('data_files/dt.npy', dt)\n",
    "    \n",
    "dg = random.sample(dg, 100)\n",
    "dt = random.sample(dt, 100)"
   ]
  },
  {
   "cell_type": "code",
   "execution_count": 3,
   "metadata": {
    "collapsed": false,
    "deletable": true,
    "editable": true
   },
   "outputs": [],
   "source": [
    "dgCoords = list()\n",
    "dgWalmartCoords = list()\n",
    "dtCoords = list()\n",
    "dtWalmartCoords = list()\n",
    "\n",
    "for address in dg:\n",
    "    location = geolocator.geocode(address, timeout = 10)\n",
    "    dgCoords.append((location.latitude, location.longitude))\n",
    "    walmart_directions = gmaps.places(\"Walmart\", (location.latitude, location.longitude))\n",
    "    walmart_coords = walmart_directions[\"results\"][0][\"geometry\"][\"location\"]\n",
    "    dgWalmartCoords.append((walmart_coords[\"lat\"], walmart_coords[\"lng\"]))\n",
    "for address in dt:\n",
    "    location = geolocator.geocode(address, timeout = 10)\n",
    "    dtCoords.append((location.latitude, location.longitude))\n",
    "    walmart_directions = gmaps.places(\"Walmart\", (location.latitude, location.longitude))\n",
    "    walmart_coords = walmart_directions[\"results\"][0][\"geometry\"][\"location\"]\n",
    "    dtWalmartCoords.append((walmart_coords[\"lat\"], walmart_coords[\"lng\"]))"
   ]
  },
  {
   "cell_type": "code",
   "execution_count": 4,
   "metadata": {
    "collapsed": false,
    "deletable": true,
    "editable": true
   },
   "outputs": [],
   "source": [
    "dg2wmCoords = list()\n",
    "dt2wmCoords = list()\n",
    "for x in range(len(dgCoords)):\n",
    "    dg2wmCoords.append((dgCoords[x], dgWalmartCoords[x]))\n",
    "for x in range(len(dtCoords)):\n",
    "    dt2wmCoords.append((dtCoords[x], dtWalmartCoords[x]))\n",
    "\n",
    "np.save('data_files/dg2wmCoords.npy', dg2wmCoords)\n",
    "np.save('data_files/dt2wmCoords.npy', dt2wmCoords)"
   ]
  },
  {
   "cell_type": "code",
   "execution_count": 5,
   "metadata": {
    "collapsed": false,
    "deletable": true,
    "editable": true
   },
   "outputs": [],
   "source": [
    "dg2wmDistance = list()\n",
    "dt2wmDistance = list()\n",
    "for x in range(len(dg2wmCoords)):\n",
    "    distance = gmaps.distance_matrix(dg2wmCoords[x][0], dg2wmCoords[x][1])\n",
    "    dg2wmDistance.append(distance['rows'][0]['elements'][0]['distance']['value']/1000)\n",
    "for x in range(len(dt2wmCoords)):\n",
    "    distance = gmaps.distance_matrix(dt2wmCoords[x][0], dt2wmCoords[x][1])\n",
    "    dt2wmDistance.append(distance['rows'][0]['elements'][0]['distance']['value']/1000)\n",
    "\n",
    "np.save('data_files/dg2wmDistance.npy', dg2wmDistance)\n",
    "np.save('data_files/dt2wmDistance.npy', dt2wmDistance)"
   ]
  },
  {
   "cell_type": "code",
   "execution_count": 6,
   "metadata": {
    "collapsed": true,
    "deletable": true,
    "editable": true
   },
   "outputs": [],
   "source": [
    "# https://gist.github.com/vishalkuo/f4aec300cf6252ed28d3\n",
    "def removeOutliers(x):\n",
    "    a = np.array(x)\n",
    "    upper_quartile = np.percentile(a, 75)\n",
    "    lower_quartile = np.percentile(a, 25)\n",
    "    IQR = (upper_quartile - lower_quartile) * 1.5\n",
    "    quartileSet = (lower_quartile - IQR, upper_quartile + IQR)\n",
    "    result = a[np.where((a >= quartileSet[0]) & (a <= quartileSet[1]))]\n",
    "    return result.tolist()\n",
    "\n",
    "dg2wmDistance = removeOutliers(dg2wmDistance)\n",
    "dt2wmDistance = removeOutliers(dt2wmDistance)"
   ]
  },
  {
   "cell_type": "code",
   "execution_count": 7,
   "metadata": {
    "collapsed": false,
    "deletable": true,
    "editable": true
   },
   "outputs": [
    {
     "data": {
      "text/plain": [
       "Ttest_indResult(statistic=2.8926943562835423, pvalue=0.004272785409558303)"
      ]
     },
     "execution_count": 7,
     "metadata": {},
     "output_type": "execute_result"
    }
   ],
   "source": [
    "stats.ttest_ind(dg2wmDistance, dt2wmDistance)"
   ]
  }
 ],
 "metadata": {
  "kernelspec": {
   "display_name": "Python 3",
   "language": "python",
   "name": "python3"
  },
  "language_info": {
   "codemirror_mode": {
    "name": "ipython",
    "version": 3
   },
   "file_extension": ".py",
   "mimetype": "text/x-python",
   "name": "python",
   "nbconvert_exporter": "python",
   "pygments_lexer": "ipython3",
   "version": "3.5.2"
  }
 },
 "nbformat": 4,
 "nbformat_minor": 2
}
